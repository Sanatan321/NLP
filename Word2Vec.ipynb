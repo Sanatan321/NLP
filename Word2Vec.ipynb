{
 "cells": [
  {
   "cell_type": "code",
   "execution_count": 1,
   "metadata": {},
   "outputs": [],
   "source": [
    "import nltk"
   ]
  },
  {
   "cell_type": "code",
   "execution_count": 19,
   "metadata": {},
   "outputs": [],
   "source": [
    "from gensim.models import Word2Vec\n",
    "from nltk.corpus import stopwords"
   ]
  },
  {
   "cell_type": "code",
   "execution_count": 4,
   "metadata": {},
   "outputs": [],
   "source": [
    "import re"
   ]
  },
  {
   "cell_type": "code",
   "execution_count": 5,
   "metadata": {},
   "outputs": [],
   "source": [
    "paragraph =\"\"\"The Partition of India in 1947 resulted in the largest mass-migration \n",
    "              of people in the world till date. In recent years, testimonies of these\n",
    "              migrations from those who witnessed the event have begun to emerge, \n",
    "              resulting in a better understand of the Partition. Among these, the narratives \n",
    "              of women- young and old- are imperative as they alert us on the impact the Partition \n",
    "              had on familial life, on homes and ways of living.Women during Partition explores \n",
    "              first-hand accounts with women who witnessed the Partition. Those who refused to \n",
    "              leave until months after the Partition, and those who had to leave at just a \n",
    "              moment’s notice. Through their stories, through the very nature of archival image, \n",
    "              we learn about the circumstances of their migrations. We learn of family, education, \n",
    "              the plight of refugees, and the most importantly, the notion of hope\n",
    "            \"\"\""
   ]
  },
  {
   "cell_type": "code",
   "execution_count": 6,
   "metadata": {},
   "outputs": [],
   "source": [
    "text=re.sub(r'\\[[0-9]*\\]',' ',paragraph)\n",
    "text=re.sub(r'\\s+',' ',text)\n",
    "text=text.lower()\n",
    "text=re.sub(r'\\d',' ',text)\n",
    "text=re.sub(r'\\s+',' ',text)"
   ]
  },
  {
   "cell_type": "code",
   "execution_count": 8,
   "metadata": {},
   "outputs": [],
   "source": [
    "sent=nltk.sent_tokenize(text)"
   ]
  },
  {
   "cell_type": "code",
   "execution_count": 11,
   "metadata": {},
   "outputs": [],
   "source": [
    "sent=[nltk.word_tokenize(sent) for sent in sent]"
   ]
  },
  {
   "cell_type": "code",
   "execution_count": 14,
   "metadata": {},
   "outputs": [
    {
     "data": {
      "text/plain": [
       "['partition',\n",
       " 'india',\n",
       " 'resulted',\n",
       " 'largest',\n",
       " 'mass-migration',\n",
       " 'people',\n",
       " 'world',\n",
       " 'till',\n",
       " 'date',\n",
       " '.']"
      ]
     },
     "execution_count": 14,
     "metadata": {},
     "output_type": "execute_result"
    }
   ],
   "source": [
    "sent[0]"
   ]
  },
  {
   "cell_type": "code",
   "execution_count": 12,
   "metadata": {},
   "outputs": [],
   "source": [
    "for i in range (len(sent)):\n",
    "    sent[i]=[word for word in sent[i] if word not in stopwords.words('english')]"
   ]
  },
  {
   "cell_type": "code",
   "execution_count": 20,
   "metadata": {},
   "outputs": [],
   "source": [
    "model = Word2Vec(sent,min_count=1)"
   ]
  },
  {
   "cell_type": "code",
   "execution_count": 21,
   "metadata": {},
   "outputs": [],
   "source": [
    "words=model.wv.vocab"
   ]
  },
  {
   "cell_type": "code",
   "execution_count": 22,
   "metadata": {},
   "outputs": [
    {
     "data": {
      "text/plain": [
       "{'partition': <gensim.models.keyedvectors.Vocab at 0x14a97777648>,\n",
       " 'india': <gensim.models.keyedvectors.Vocab at 0x14a97777608>,\n",
       " 'resulted': <gensim.models.keyedvectors.Vocab at 0x14a97777ac8>,\n",
       " 'largest': <gensim.models.keyedvectors.Vocab at 0x14a97777b08>,\n",
       " 'mass-migration': <gensim.models.keyedvectors.Vocab at 0x14a97777b88>,\n",
       " 'people': <gensim.models.keyedvectors.Vocab at 0x14a97777c08>,\n",
       " 'world': <gensim.models.keyedvectors.Vocab at 0x14a97777c48>,\n",
       " 'till': <gensim.models.keyedvectors.Vocab at 0x14a977af388>,\n",
       " 'date': <gensim.models.keyedvectors.Vocab at 0x14a97777b48>,\n",
       " '.': <gensim.models.keyedvectors.Vocab at 0x14a97777bc8>,\n",
       " 'recent': <gensim.models.keyedvectors.Vocab at 0x14a977af3c8>,\n",
       " 'years': <gensim.models.keyedvectors.Vocab at 0x14a977af408>,\n",
       " ',': <gensim.models.keyedvectors.Vocab at 0x14a977af448>,\n",
       " 'testimonies': <gensim.models.keyedvectors.Vocab at 0x14a977af488>,\n",
       " 'migrations': <gensim.models.keyedvectors.Vocab at 0x14a977af4c8>,\n",
       " 'witnessed': <gensim.models.keyedvectors.Vocab at 0x14a977af508>,\n",
       " 'event': <gensim.models.keyedvectors.Vocab at 0x14a977af548>,\n",
       " 'begun': <gensim.models.keyedvectors.Vocab at 0x14a977af588>,\n",
       " 'emerge': <gensim.models.keyedvectors.Vocab at 0x14a977af5c8>,\n",
       " 'resulting': <gensim.models.keyedvectors.Vocab at 0x14a977af608>,\n",
       " 'better': <gensim.models.keyedvectors.Vocab at 0x14a977af648>,\n",
       " 'understand': <gensim.models.keyedvectors.Vocab at 0x14a977af688>,\n",
       " 'among': <gensim.models.keyedvectors.Vocab at 0x14a977af6c8>,\n",
       " 'narratives': <gensim.models.keyedvectors.Vocab at 0x14a977af708>,\n",
       " 'women-': <gensim.models.keyedvectors.Vocab at 0x14a977af748>,\n",
       " 'young': <gensim.models.keyedvectors.Vocab at 0x14a977af788>,\n",
       " 'old-': <gensim.models.keyedvectors.Vocab at 0x14a977af7c8>,\n",
       " 'imperative': <gensim.models.keyedvectors.Vocab at 0x14a977af808>,\n",
       " 'alert': <gensim.models.keyedvectors.Vocab at 0x14a977af848>,\n",
       " 'us': <gensim.models.keyedvectors.Vocab at 0x14a977af888>,\n",
       " 'impact': <gensim.models.keyedvectors.Vocab at 0x14a977af8c8>,\n",
       " 'familial': <gensim.models.keyedvectors.Vocab at 0x14a977af908>,\n",
       " 'life': <gensim.models.keyedvectors.Vocab at 0x14a977af948>,\n",
       " 'homes': <gensim.models.keyedvectors.Vocab at 0x14a977af988>,\n",
       " 'ways': <gensim.models.keyedvectors.Vocab at 0x14a977af9c8>,\n",
       " 'living.women': <gensim.models.keyedvectors.Vocab at 0x14a977afa08>,\n",
       " 'explores': <gensim.models.keyedvectors.Vocab at 0x14a977afa48>,\n",
       " 'first-hand': <gensim.models.keyedvectors.Vocab at 0x14a977afa88>,\n",
       " 'accounts': <gensim.models.keyedvectors.Vocab at 0x14a977afac8>,\n",
       " 'women': <gensim.models.keyedvectors.Vocab at 0x14a977afb08>,\n",
       " 'refused': <gensim.models.keyedvectors.Vocab at 0x14a977afb48>,\n",
       " 'leave': <gensim.models.keyedvectors.Vocab at 0x14a977afb88>,\n",
       " 'months': <gensim.models.keyedvectors.Vocab at 0x14a977afbc8>,\n",
       " 'moment': <gensim.models.keyedvectors.Vocab at 0x14a977afc08>,\n",
       " '’': <gensim.models.keyedvectors.Vocab at 0x14a977afc48>,\n",
       " 'notice': <gensim.models.keyedvectors.Vocab at 0x14a977afc88>,\n",
       " 'stories': <gensim.models.keyedvectors.Vocab at 0x14a977afcc8>,\n",
       " 'nature': <gensim.models.keyedvectors.Vocab at 0x14a977afd08>,\n",
       " 'archival': <gensim.models.keyedvectors.Vocab at 0x14a977afd48>,\n",
       " 'image': <gensim.models.keyedvectors.Vocab at 0x14a977afd88>,\n",
       " 'learn': <gensim.models.keyedvectors.Vocab at 0x14a977afdc8>,\n",
       " 'circumstances': <gensim.models.keyedvectors.Vocab at 0x14a977afe08>,\n",
       " 'family': <gensim.models.keyedvectors.Vocab at 0x14a977afe48>,\n",
       " 'education': <gensim.models.keyedvectors.Vocab at 0x14a977afe88>,\n",
       " 'plight': <gensim.models.keyedvectors.Vocab at 0x14a977afec8>,\n",
       " 'refugees': <gensim.models.keyedvectors.Vocab at 0x14a977aff08>,\n",
       " 'importantly': <gensim.models.keyedvectors.Vocab at 0x14a977aff48>,\n",
       " 'notion': <gensim.models.keyedvectors.Vocab at 0x14a977aff88>,\n",
       " 'hope': <gensim.models.keyedvectors.Vocab at 0x14a977affc8>}"
      ]
     },
     "execution_count": 22,
     "metadata": {},
     "output_type": "execute_result"
    }
   ],
   "source": [
    "words"
   ]
  },
  {
   "cell_type": "code",
   "execution_count": 23,
   "metadata": {},
   "outputs": [],
   "source": [
    "vector=model.wv['life']"
   ]
  },
  {
   "cell_type": "code",
   "execution_count": 24,
   "metadata": {},
   "outputs": [
    {
     "data": {
      "text/plain": [
       "array([-4.9393191e-03, -1.6367804e-03,  3.5212990e-03, -7.7950151e-04,\n",
       "        4.0858542e-03,  6.9314666e-04, -8.9757668e-04,  3.4421682e-03,\n",
       "       -3.3720525e-03,  4.5693712e-03,  3.3757484e-03,  2.2976352e-05,\n",
       "       -3.1231372e-03, -4.2165695e-03,  4.0393630e-03, -2.5905345e-03,\n",
       "       -3.6267987e-03, -2.9614347e-03, -1.0434192e-03, -1.4082202e-03,\n",
       "        3.1417253e-04,  1.2221822e-03, -3.2399984e-03, -4.5486526e-03,\n",
       "       -3.2761875e-03,  2.7638359e-04,  3.7491641e-03,  1.6013411e-03,\n",
       "        2.7969119e-03,  1.9837441e-03,  3.5769630e-03, -1.8069013e-03,\n",
       "        4.4765063e-03, -4.8000538e-03,  5.4318836e-05, -4.9727975e-04,\n",
       "        1.6037328e-03, -3.4377015e-05,  4.8455256e-03,  2.8021615e-03,\n",
       "       -4.6655796e-03, -3.5934800e-03,  5.4518937e-04, -4.1484912e-03,\n",
       "       -7.4927910e-04, -3.0395258e-03,  6.4670888e-04,  1.6903768e-03,\n",
       "        1.0598121e-03,  1.8352009e-03,  2.2759112e-03,  4.5978678e-03,\n",
       "       -3.8421918e-03, -7.6386973e-04,  9.6367835e-04,  1.8228282e-03,\n",
       "        4.0250702e-04,  4.6729580e-03,  1.4572355e-03,  3.8790347e-03,\n",
       "       -2.6615376e-03,  1.0319792e-03, -5.6546676e-04,  3.8426714e-03,\n",
       "       -2.0733885e-03, -4.5162468e-04, -5.8721745e-04,  4.7451123e-03,\n",
       "       -2.9816148e-03,  4.5022103e-03,  1.0685655e-03, -1.5749150e-03,\n",
       "        2.8202655e-03, -3.9544469e-03, -7.3976512e-04,  3.4234694e-03,\n",
       "       -4.7361613e-03, -3.7767778e-03,  3.5467856e-03,  3.6973865e-03,\n",
       "        4.0305033e-04, -4.8190234e-03, -2.3104220e-03, -2.7548493e-04,\n",
       "        9.9149381e-04, -1.6391185e-03, -2.4243379e-03, -6.3495297e-04,\n",
       "       -4.3442735e-04,  2.8129986e-03, -4.9278573e-03, -3.1923314e-03,\n",
       "       -4.1227792e-03,  1.7404578e-03, -2.4049745e-03,  4.0182546e-03,\n",
       "        1.2356864e-03,  3.5562089e-03, -1.4302868e-04, -3.8012927e-03],\n",
       "      dtype=float32)"
      ]
     },
     "execution_count": 24,
     "metadata": {},
     "output_type": "execute_result"
    }
   ],
   "source": [
    "vector"
   ]
  },
  {
   "cell_type": "code",
   "execution_count": 38,
   "metadata": {},
   "outputs": [],
   "source": [
    "similar=model.wv.most_similar('people')"
   ]
  },
  {
   "cell_type": "code",
   "execution_count": 39,
   "metadata": {},
   "outputs": [
    {
     "data": {
      "text/plain": [
       "[('testimonies', 0.33824843168258667),\n",
       " ('leave', 0.2917415201663971),\n",
       " ('plight', 0.24416548013687134),\n",
       " ('stories', 0.24025395512580872),\n",
       " ('resulting', 0.17623794078826904),\n",
       " ('emerge', 0.10656340420246124),\n",
       " ('hope', 0.09310390055179596),\n",
       " ('narratives', 0.08809801936149597),\n",
       " ('notion', 0.07556121796369553),\n",
       " ('young', 0.073942169547081)]"
      ]
     },
     "execution_count": 39,
     "metadata": {},
     "output_type": "execute_result"
    }
   ],
   "source": [
    "similar"
   ]
  },
  {
   "cell_type": "code",
   "execution_count": null,
   "metadata": {},
   "outputs": [],
   "source": []
  }
 ],
 "metadata": {
  "kernelspec": {
   "display_name": "Python 3",
   "language": "python",
   "name": "python3"
  },
  "language_info": {
   "codemirror_mode": {
    "name": "ipython",
    "version": 3
   },
   "file_extension": ".py",
   "mimetype": "text/x-python",
   "name": "python",
   "nbconvert_exporter": "python",
   "pygments_lexer": "ipython3",
   "version": "3.7.6"
  }
 },
 "nbformat": 4,
 "nbformat_minor": 4
}

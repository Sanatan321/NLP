{
 "cells": [
  {
   "cell_type": "code",
   "execution_count": 6,
   "metadata": {},
   "outputs": [
    {
     "name": "stderr",
     "output_type": "stream",
     "text": [
      "[nltk_data] Downloading package punkt to\n",
      "[nltk_data]     C:\\Users\\HP\\AppData\\Roaming\\nltk_data...\n",
      "[nltk_data]   Package punkt is already up-to-date!\n",
      "[nltk_data] Downloading package stopwords to\n",
      "[nltk_data]     C:\\Users\\HP\\AppData\\Roaming\\nltk_data...\n",
      "[nltk_data]   Package stopwords is already up-to-date!\n",
      "[nltk_data] Downloading package wordnet to\n",
      "[nltk_data]     C:\\Users\\HP\\AppData\\Roaming\\nltk_data...\n",
      "[nltk_data]   Unzipping corpora\\wordnet.zip.\n"
     ]
    },
    {
     "data": {
      "text/plain": [
       "True"
      ]
     },
     "execution_count": 6,
     "metadata": {},
     "output_type": "execute_result"
    }
   ],
   "source": [
    "import nltk\n",
    "nltk.download('punkt')\n",
    "nltk.download('stopwords')\n",
    "nltk.download('wordnet')"
   ]
  },
  {
   "cell_type": "code",
   "execution_count": 2,
   "metadata": {},
   "outputs": [],
   "source": [
    "paragraph= \"\"\"The Partition of India in 1947 resulted in the largest mass-migration \n",
    "              of people in the world till date. In recent years, testimonies of these\n",
    "              migrations from those who witnessed the event have begun to emerge, \n",
    "              resulting in a better understand of the Partition. Among these, the narratives \n",
    "              of women- young and old- are imperative as they alert us on the impact the Partition \n",
    "              had on familial life, on homes and ways of living.Women during Partition explores \n",
    "              first-hand accounts with women who witnessed the Partition. Those who refused to \n",
    "              leave until months after the Partition, and those who had to leave at just a \n",
    "              moment’s notice. Through their stories, through the very nature of archival image, \n",
    "              we learn about the circumstances of their migrations. We learn of family, education, \n",
    "              the plight of refugees, and the most importantly, the notion of hope\n",
    "            \"\"\""
   ]
  },
  {
   "cell_type": "code",
   "execution_count": 3,
   "metadata": {},
   "outputs": [],
   "source": [
    "import re\n",
    "from nltk.corpus import stopwords\n",
    "from nltk.stem.porter import PorterStemmer\n",
    "from nltk.stem import WordNetLemmatizer"
   ]
  },
  {
   "cell_type": "code",
   "execution_count": 4,
   "metadata": {},
   "outputs": [],
   "source": [
    "ps=PorterStemmer()\n",
    "wrdnet= WordNetLemmatizer()\n",
    "sent=nltk.sent_tokenize(paragraph)"
   ]
  },
  {
   "cell_type": "code",
   "execution_count": 7,
   "metadata": {},
   "outputs": [],
   "source": [
    "corpus=[]\n",
    "for i in range (len(sent)):\n",
    "    review=re.sub('[^a-zA-Z]',' ',sent[i])\n",
    "    review=review.lower()\n",
    "    review=review.split()\n",
    "    review=[wrdnet.lemmatize(word) for word in review if not word in set(stopwords.words('English'))]\n",
    "    review=' '.join(review)\n",
    "    corpus.append(review)"
   ]
  },
  {
   "cell_type": "code",
   "execution_count": 15,
   "metadata": {},
   "outputs": [],
   "source": [
    "from sklearn.feature_extraction.text import TfidfVectorizer\n",
    "vect=TfidfVectorizer()\n",
    "V=vect.fit_transform(corpus).toarray()"
   ]
  },
  {
   "cell_type": "code",
   "execution_count": 16,
   "metadata": {},
   "outputs": [
    {
     "data": {
      "text/plain": [
       "array([[0.        , 0.        , 0.        , 0.        , 0.        ,\n",
       "        0.        , 0.        , 0.33650292, 0.        , 0.        ,\n",
       "        0.        , 0.        , 0.        , 0.        , 0.        ,\n",
       "        0.        , 0.        , 0.        , 0.        , 0.        ,\n",
       "        0.        , 0.        , 0.33650292, 0.33650292, 0.        ,\n",
       "        0.        , 0.        , 0.        , 0.33650292, 0.23296515,\n",
       "        0.        , 0.        , 0.        , 0.        , 0.        ,\n",
       "        0.        , 0.        , 0.19963344, 0.33650292, 0.        ,\n",
       "        0.        , 0.        , 0.        , 0.33650292, 0.        ,\n",
       "        0.        , 0.        , 0.33650292, 0.        , 0.        ,\n",
       "        0.        , 0.        , 0.33650292, 0.        , 0.        ],\n",
       "       [0.        , 0.        , 0.        , 0.        , 0.30855269,\n",
       "        0.30855269, 0.        , 0.        , 0.        , 0.30855269,\n",
       "        0.30855269, 0.        , 0.        , 0.        , 0.        ,\n",
       "        0.        , 0.        , 0.        , 0.        , 0.        ,\n",
       "        0.        , 0.        , 0.        , 0.        , 0.        ,\n",
       "        0.        , 0.        , 0.        , 0.        , 0.21361486,\n",
       "        0.        , 0.        , 0.        , 0.        , 0.        ,\n",
       "        0.        , 0.        , 0.1830517 , 0.        , 0.        ,\n",
       "        0.30855269, 0.        , 0.        , 0.        , 0.30855269,\n",
       "        0.        , 0.30855269, 0.        , 0.30855269, 0.        ,\n",
       "        0.25301762, 0.        , 0.        , 0.30855269, 0.        ],\n",
       "       [0.18620963, 0.18620963, 0.18620963, 0.        , 0.        ,\n",
       "        0.        , 0.        , 0.        , 0.        , 0.        ,\n",
       "        0.        , 0.18620963, 0.18620963, 0.        , 0.18620963,\n",
       "        0.18620963, 0.18620963, 0.        , 0.        , 0.18620963,\n",
       "        0.18620963, 0.        , 0.        , 0.        , 0.        ,\n",
       "        0.        , 0.18620963, 0.18620963, 0.        , 0.        ,\n",
       "        0.        , 0.        , 0.18620963, 0.        , 0.        ,\n",
       "        0.        , 0.18620963, 0.3314117 , 0.        , 0.        ,\n",
       "        0.        , 0.        , 0.        , 0.        , 0.        ,\n",
       "        0.        , 0.        , 0.        , 0.        , 0.18620963,\n",
       "        0.15269456, 0.55862889, 0.        , 0.        , 0.18620963],\n",
       "       [0.        , 0.        , 0.        , 0.        , 0.        ,\n",
       "        0.        , 0.        , 0.        , 0.        , 0.        ,\n",
       "        0.        , 0.        , 0.        , 0.        , 0.        ,\n",
       "        0.        , 0.        , 0.        , 0.        , 0.        ,\n",
       "        0.        , 0.        , 0.        , 0.        , 0.        ,\n",
       "        0.69204747, 0.        , 0.        , 0.        , 0.        ,\n",
       "        0.34602374, 0.34602374, 0.        , 0.        , 0.34602374,\n",
       "        0.        , 0.        , 0.20528175, 0.        , 0.        ,\n",
       "        0.        , 0.        , 0.34602374, 0.        , 0.        ,\n",
       "        0.        , 0.        , 0.        , 0.        , 0.        ,\n",
       "        0.        , 0.        , 0.        , 0.        , 0.        ],\n",
       "       [0.        , 0.        , 0.        , 0.40318254, 0.        ,\n",
       "        0.        , 0.40318254, 0.        , 0.        , 0.        ,\n",
       "        0.        , 0.        , 0.        , 0.        , 0.        ,\n",
       "        0.        , 0.        , 0.        , 0.40318254, 0.        ,\n",
       "        0.        , 0.        , 0.        , 0.        , 0.33061545,\n",
       "        0.        , 0.        , 0.        , 0.        , 0.27912828,\n",
       "        0.        , 0.        , 0.        , 0.40318254, 0.        ,\n",
       "        0.        , 0.        , 0.        , 0.        , 0.        ,\n",
       "        0.        , 0.        , 0.        , 0.        , 0.        ,\n",
       "        0.40318254, 0.        , 0.        , 0.        , 0.        ,\n",
       "        0.        , 0.        , 0.        , 0.        , 0.        ],\n",
       "       [0.        , 0.        , 0.        , 0.        , 0.        ,\n",
       "        0.        , 0.        , 0.        , 0.36102204, 0.        ,\n",
       "        0.        , 0.        , 0.        , 0.36102204, 0.        ,\n",
       "        0.        , 0.        , 0.36102204, 0.        , 0.        ,\n",
       "        0.        , 0.36102204, 0.        , 0.        , 0.29604324,\n",
       "        0.        , 0.        , 0.        , 0.        , 0.        ,\n",
       "        0.        , 0.        , 0.        , 0.        , 0.        ,\n",
       "        0.36102204, 0.        , 0.        , 0.        , 0.36102204,\n",
       "        0.        , 0.36102204, 0.        , 0.        , 0.        ,\n",
       "        0.        , 0.        , 0.        , 0.        , 0.        ,\n",
       "        0.        , 0.        , 0.        , 0.        , 0.        ]])"
      ]
     },
     "execution_count": 16,
     "metadata": {},
     "output_type": "execute_result"
    }
   ],
   "source": [
    "V"
   ]
  }
 ],
 "metadata": {
  "kernelspec": {
   "display_name": "Python 3",
   "language": "python",
   "name": "python3"
  },
  "language_info": {
   "codemirror_mode": {
    "name": "ipython",
    "version": 3
   },
   "file_extension": ".py",
   "mimetype": "text/x-python",
   "name": "python",
   "nbconvert_exporter": "python",
   "pygments_lexer": "ipython3",
   "version": "3.7.6"
  }
 },
 "nbformat": 4,
 "nbformat_minor": 4
}
